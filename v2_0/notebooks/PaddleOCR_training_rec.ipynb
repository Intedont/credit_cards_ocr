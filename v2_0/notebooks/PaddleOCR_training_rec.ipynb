{
  "cells": [
    {
      "cell_type": "code",
      "execution_count": null,
      "metadata": {
        "colab": {
          "base_uri": "https://localhost:8080/"
        },
        "id": "fGKGrV6pYXHG",
        "outputId": "0912d912-1b3b-41db-9704-b27071f62a77"
      },
      "outputs": [
        {
          "output_type": "stream",
          "name": "stdout",
          "text": [
            "Looking in indexes: https://pypi.org/simple, https://us-python.pkg.dev/colab-wheels/public/simple/\n",
            "Collecting paddlepaddle-gpu\n",
            "  Downloading paddlepaddle_gpu-2.3.2-cp37-cp37m-manylinux1_x86_64.whl (394.0 MB)\n",
            "\u001b[K     |████████████████████████████████| 394.0 MB 24 kB/s \n",
            "\u001b[?25hRequirement already satisfied: requests>=2.20.0 in /usr/local/lib/python3.7/dist-packages (from paddlepaddle-gpu) (2.23.0)\n",
            "Requirement already satisfied: decorator in /usr/local/lib/python3.7/dist-packages (from paddlepaddle-gpu) (4.4.2)\n",
            "Requirement already satisfied: protobuf<=3.20.0,>=3.1.0 in /usr/local/lib/python3.7/dist-packages (from paddlepaddle-gpu) (3.17.3)\n",
            "Requirement already satisfied: six in /usr/local/lib/python3.7/dist-packages (from paddlepaddle-gpu) (1.15.0)\n",
            "Requirement already satisfied: Pillow in /usr/local/lib/python3.7/dist-packages (from paddlepaddle-gpu) (7.1.2)\n",
            "Requirement already satisfied: opt-einsum==3.3.0 in /usr/local/lib/python3.7/dist-packages (from paddlepaddle-gpu) (3.3.0)\n",
            "Requirement already satisfied: numpy>=1.13 in /usr/local/lib/python3.7/dist-packages (from paddlepaddle-gpu) (1.21.6)\n",
            "Collecting paddle-bfloat==0.1.7\n",
            "  Downloading paddle_bfloat-0.1.7-cp37-cp37m-manylinux_2_17_x86_64.manylinux2014_x86_64.whl (394 kB)\n",
            "\u001b[K     |████████████████████████████████| 394 kB 62.7 MB/s \n",
            "\u001b[?25hRequirement already satisfied: astor in /usr/local/lib/python3.7/dist-packages (from paddlepaddle-gpu) (0.8.1)\n",
            "Requirement already satisfied: chardet<4,>=3.0.2 in /usr/local/lib/python3.7/dist-packages (from requests>=2.20.0->paddlepaddle-gpu) (3.0.4)\n",
            "Requirement already satisfied: urllib3!=1.25.0,!=1.25.1,<1.26,>=1.21.1 in /usr/local/lib/python3.7/dist-packages (from requests>=2.20.0->paddlepaddle-gpu) (1.24.3)\n",
            "Requirement already satisfied: certifi>=2017.4.17 in /usr/local/lib/python3.7/dist-packages (from requests>=2.20.0->paddlepaddle-gpu) (2022.6.15)\n",
            "Requirement already satisfied: idna<3,>=2.5 in /usr/local/lib/python3.7/dist-packages (from requests>=2.20.0->paddlepaddle-gpu) (2.10)\n",
            "Installing collected packages: paddle-bfloat, paddlepaddle-gpu\n",
            "Successfully installed paddle-bfloat-0.1.7 paddlepaddle-gpu-2.3.2\n",
            "Cloning into 'PaddleOCR'...\n",
            "remote: Enumerating objects: 42673, done.\u001b[K\n",
            "remote: Counting objects: 100% (124/124), done.\u001b[K\n",
            "remote: Compressing objects: 100% (93/93), done.\u001b[K\n",
            "remote: Total 42673 (delta 41), reused 72 (delta 31), pack-reused 42549\u001b[K\n",
            "Receiving objects: 100% (42673/42673), 336.18 MiB | 16.50 MiB/s, done.\n",
            "Resolving deltas: 100% (30015/30015), done.\n",
            "Looking in indexes: https://pypi.org/simple, https://us-python.pkg.dev/colab-wheels/public/simple/\n",
            "Requirement already satisfied: shapely in /usr/local/lib/python3.7/dist-packages (from -r /content/PaddleOCR/requirements.txt (line 1)) (1.8.4)\n",
            "Requirement already satisfied: scikit-image in /usr/local/lib/python3.7/dist-packages (from -r /content/PaddleOCR/requirements.txt (line 2)) (0.18.3)\n",
            "Requirement already satisfied: imgaug in /usr/local/lib/python3.7/dist-packages (from -r /content/PaddleOCR/requirements.txt (line 3)) (0.4.0)\n",
            "Requirement already satisfied: pyclipper in /usr/local/lib/python3.7/dist-packages (from -r /content/PaddleOCR/requirements.txt (line 4)) (1.3.0.post3)\n",
            "Requirement already satisfied: lmdb in /usr/local/lib/python3.7/dist-packages (from -r /content/PaddleOCR/requirements.txt (line 5)) (0.99)\n",
            "Requirement already satisfied: tqdm in /usr/local/lib/python3.7/dist-packages (from -r /content/PaddleOCR/requirements.txt (line 6)) (4.64.1)\n",
            "Requirement already satisfied: numpy in /usr/local/lib/python3.7/dist-packages (from -r /content/PaddleOCR/requirements.txt (line 7)) (1.21.6)\n",
            "Requirement already satisfied: visualdl in /usr/local/lib/python3.7/dist-packages (from -r /content/PaddleOCR/requirements.txt (line 8)) (2.4.1)\n",
            "Requirement already satisfied: rapidfuzz in /usr/local/lib/python3.7/dist-packages (from -r /content/PaddleOCR/requirements.txt (line 9)) (2.9.0)\n",
            "Requirement already satisfied: opencv-contrib-python in /usr/local/lib/python3.7/dist-packages (from -r /content/PaddleOCR/requirements.txt (line 10)) (4.6.0.66)\n",
            "Requirement already satisfied: cython in /usr/local/lib/python3.7/dist-packages (from -r /content/PaddleOCR/requirements.txt (line 11)) (0.29.32)\n",
            "Requirement already satisfied: lxml in /usr/local/lib/python3.7/dist-packages (from -r /content/PaddleOCR/requirements.txt (line 12)) (4.9.1)\n",
            "Requirement already satisfied: premailer in /usr/local/lib/python3.7/dist-packages (from -r /content/PaddleOCR/requirements.txt (line 13)) (3.10.0)\n",
            "Requirement already satisfied: openpyxl in /usr/local/lib/python3.7/dist-packages (from -r /content/PaddleOCR/requirements.txt (line 14)) (3.0.10)\n",
            "Requirement already satisfied: attrdict in /usr/local/lib/python3.7/dist-packages (from -r /content/PaddleOCR/requirements.txt (line 15)) (2.0.1)\n",
            "Requirement already satisfied: matplotlib!=3.0.0,>=2.0.0 in /usr/local/lib/python3.7/dist-packages (from scikit-image->-r /content/PaddleOCR/requirements.txt (line 2)) (3.2.2)\n",
            "Requirement already satisfied: pillow!=7.1.0,!=7.1.1,>=4.3.0 in /usr/local/lib/python3.7/dist-packages (from scikit-image->-r /content/PaddleOCR/requirements.txt (line 2)) (7.1.2)\n",
            "Requirement already satisfied: scipy>=1.0.1 in /usr/local/lib/python3.7/dist-packages (from scikit-image->-r /content/PaddleOCR/requirements.txt (line 2)) (1.7.3)\n",
            "Requirement already satisfied: tifffile>=2019.7.26 in /usr/local/lib/python3.7/dist-packages (from scikit-image->-r /content/PaddleOCR/requirements.txt (line 2)) (2021.11.2)\n",
            "Requirement already satisfied: PyWavelets>=1.1.1 in /usr/local/lib/python3.7/dist-packages (from scikit-image->-r /content/PaddleOCR/requirements.txt (line 2)) (1.3.0)\n",
            "Requirement already satisfied: imageio>=2.3.0 in /usr/local/lib/python3.7/dist-packages (from scikit-image->-r /content/PaddleOCR/requirements.txt (line 2)) (2.9.0)\n",
            "Requirement already satisfied: networkx>=2.0 in /usr/local/lib/python3.7/dist-packages (from scikit-image->-r /content/PaddleOCR/requirements.txt (line 2)) (2.6.3)\n",
            "Requirement already satisfied: kiwisolver>=1.0.1 in /usr/local/lib/python3.7/dist-packages (from matplotlib!=3.0.0,>=2.0.0->scikit-image->-r /content/PaddleOCR/requirements.txt (line 2)) (1.4.4)\n",
            "Requirement already satisfied: cycler>=0.10 in /usr/local/lib/python3.7/dist-packages (from matplotlib!=3.0.0,>=2.0.0->scikit-image->-r /content/PaddleOCR/requirements.txt (line 2)) (0.11.0)\n",
            "Requirement already satisfied: python-dateutil>=2.1 in /usr/local/lib/python3.7/dist-packages (from matplotlib!=3.0.0,>=2.0.0->scikit-image->-r /content/PaddleOCR/requirements.txt (line 2)) (2.8.2)\n",
            "Requirement already satisfied: pyparsing!=2.0.4,!=2.1.2,!=2.1.6,>=2.0.1 in /usr/local/lib/python3.7/dist-packages (from matplotlib!=3.0.0,>=2.0.0->scikit-image->-r /content/PaddleOCR/requirements.txt (line 2)) (3.0.9)\n",
            "Requirement already satisfied: typing-extensions in /usr/local/lib/python3.7/dist-packages (from kiwisolver>=1.0.1->matplotlib!=3.0.0,>=2.0.0->scikit-image->-r /content/PaddleOCR/requirements.txt (line 2)) (4.1.1)\n",
            "Requirement already satisfied: six>=1.5 in /usr/local/lib/python3.7/dist-packages (from python-dateutil>=2.1->matplotlib!=3.0.0,>=2.0.0->scikit-image->-r /content/PaddleOCR/requirements.txt (line 2)) (1.15.0)\n",
            "Requirement already satisfied: opencv-python in /usr/local/lib/python3.7/dist-packages (from imgaug->-r /content/PaddleOCR/requirements.txt (line 3)) (4.6.0.66)\n",
            "Requirement already satisfied: protobuf>=3.11.0 in /usr/local/lib/python3.7/dist-packages (from visualdl->-r /content/PaddleOCR/requirements.txt (line 8)) (3.17.3)\n",
            "Requirement already satisfied: requests in /usr/local/lib/python3.7/dist-packages (from visualdl->-r /content/PaddleOCR/requirements.txt (line 8)) (2.23.0)\n",
            "Requirement already satisfied: pandas in /usr/local/lib/python3.7/dist-packages (from visualdl->-r /content/PaddleOCR/requirements.txt (line 8)) (1.3.5)\n",
            "Requirement already satisfied: packaging in /usr/local/lib/python3.7/dist-packages (from visualdl->-r /content/PaddleOCR/requirements.txt (line 8)) (21.3)\n",
            "Requirement already satisfied: Flask-Babel>=1.0.0 in /usr/local/lib/python3.7/dist-packages (from visualdl->-r /content/PaddleOCR/requirements.txt (line 8)) (2.0.0)\n",
            "Requirement already satisfied: bce-python-sdk in /usr/local/lib/python3.7/dist-packages (from visualdl->-r /content/PaddleOCR/requirements.txt (line 8)) (0.8.74)\n",
            "Requirement already satisfied: multiprocess in /usr/local/lib/python3.7/dist-packages (from visualdl->-r /content/PaddleOCR/requirements.txt (line 8)) (0.70.13)\n",
            "Requirement already satisfied: flask>=1.1.1 in /usr/local/lib/python3.7/dist-packages (from visualdl->-r /content/PaddleOCR/requirements.txt (line 8)) (1.1.4)\n",
            "Requirement already satisfied: Jinja2<3.0,>=2.10.1 in /usr/local/lib/python3.7/dist-packages (from flask>=1.1.1->visualdl->-r /content/PaddleOCR/requirements.txt (line 8)) (2.11.3)\n",
            "Requirement already satisfied: itsdangerous<2.0,>=0.24 in /usr/local/lib/python3.7/dist-packages (from flask>=1.1.1->visualdl->-r /content/PaddleOCR/requirements.txt (line 8)) (1.1.0)\n",
            "Requirement already satisfied: click<8.0,>=5.1 in /usr/local/lib/python3.7/dist-packages (from flask>=1.1.1->visualdl->-r /content/PaddleOCR/requirements.txt (line 8)) (7.1.2)\n",
            "Requirement already satisfied: Werkzeug<2.0,>=0.15 in /usr/local/lib/python3.7/dist-packages (from flask>=1.1.1->visualdl->-r /content/PaddleOCR/requirements.txt (line 8)) (1.0.1)\n",
            "Requirement already satisfied: Babel>=2.3 in /usr/local/lib/python3.7/dist-packages (from Flask-Babel>=1.0.0->visualdl->-r /content/PaddleOCR/requirements.txt (line 8)) (2.10.3)\n",
            "Requirement already satisfied: pytz in /usr/local/lib/python3.7/dist-packages (from Flask-Babel>=1.0.0->visualdl->-r /content/PaddleOCR/requirements.txt (line 8)) (2022.2.1)\n",
            "Requirement already satisfied: MarkupSafe>=0.23 in /usr/local/lib/python3.7/dist-packages (from Jinja2<3.0,>=2.10.1->flask>=1.1.1->visualdl->-r /content/PaddleOCR/requirements.txt (line 8)) (2.0.1)\n",
            "Requirement already satisfied: jarowinkler<2.0.0,>=1.2.0 in /usr/local/lib/python3.7/dist-packages (from rapidfuzz->-r /content/PaddleOCR/requirements.txt (line 9)) (1.2.1)\n",
            "Requirement already satisfied: cachetools in /usr/local/lib/python3.7/dist-packages (from premailer->-r /content/PaddleOCR/requirements.txt (line 13)) (4.2.4)\n",
            "Requirement already satisfied: cssutils in /usr/local/lib/python3.7/dist-packages (from premailer->-r /content/PaddleOCR/requirements.txt (line 13)) (2.6.0)\n",
            "Requirement already satisfied: cssselect in /usr/local/lib/python3.7/dist-packages (from premailer->-r /content/PaddleOCR/requirements.txt (line 13)) (1.1.0)\n",
            "Requirement already satisfied: et-xmlfile in /usr/local/lib/python3.7/dist-packages (from openpyxl->-r /content/PaddleOCR/requirements.txt (line 14)) (1.1.0)\n",
            "Requirement already satisfied: future>=0.6.0 in /usr/local/lib/python3.7/dist-packages (from bce-python-sdk->visualdl->-r /content/PaddleOCR/requirements.txt (line 8)) (0.16.0)\n",
            "Requirement already satisfied: pycryptodome>=3.8.0 in /usr/local/lib/python3.7/dist-packages (from bce-python-sdk->visualdl->-r /content/PaddleOCR/requirements.txt (line 8)) (3.15.0)\n",
            "Requirement already satisfied: importlib-metadata in /usr/local/lib/python3.7/dist-packages (from cssutils->premailer->-r /content/PaddleOCR/requirements.txt (line 13)) (4.12.0)\n",
            "Requirement already satisfied: zipp>=0.5 in /usr/local/lib/python3.7/dist-packages (from importlib-metadata->cssutils->premailer->-r /content/PaddleOCR/requirements.txt (line 13)) (3.8.1)\n",
            "Requirement already satisfied: dill>=0.3.5.1 in /usr/local/lib/python3.7/dist-packages (from multiprocess->visualdl->-r /content/PaddleOCR/requirements.txt (line 8)) (0.3.5.1)\n",
            "Requirement already satisfied: idna<3,>=2.5 in /usr/local/lib/python3.7/dist-packages (from requests->visualdl->-r /content/PaddleOCR/requirements.txt (line 8)) (2.10)\n",
            "Requirement already satisfied: chardet<4,>=3.0.2 in /usr/local/lib/python3.7/dist-packages (from requests->visualdl->-r /content/PaddleOCR/requirements.txt (line 8)) (3.0.4)\n",
            "Requirement already satisfied: certifi>=2017.4.17 in /usr/local/lib/python3.7/dist-packages (from requests->visualdl->-r /content/PaddleOCR/requirements.txt (line 8)) (2022.6.15)\n",
            "Requirement already satisfied: urllib3!=1.25.0,!=1.25.1,<1.26,>=1.21.1 in /usr/local/lib/python3.7/dist-packages (from requests->visualdl->-r /content/PaddleOCR/requirements.txt (line 8)) (1.24.3)\n",
            "Looking in indexes: https://pypi.org/simple, https://us-python.pkg.dev/colab-wheels/public/simple/\n",
            "Collecting PyYAML==5.4.1\n",
            "  Downloading PyYAML-5.4.1-cp37-cp37m-manylinux1_x86_64.whl (636 kB)\n",
            "\u001b[K     |████████████████████████████████| 636 kB 30.2 MB/s \n",
            "\u001b[?25hInstalling collected packages: PyYAML\n",
            "  Attempting uninstall: PyYAML\n",
            "    Found existing installation: PyYAML 6.0\n",
            "    Uninstalling PyYAML-6.0:\n",
            "      Successfully uninstalled PyYAML-6.0\n",
            "Successfully installed PyYAML-5.4.1\n"
          ]
        }
      ],
      "source": [
        "!python3 -m pip install paddlepaddle-gpu\n",
        "#!python3 -m pip install paddlepaddle\n",
        "!pip install paddleocr>=2.0.1\n",
        "!git clone https://github.com/PaddlePaddle/PaddleOCR.git\n",
        "!pip install -r /content/PaddleOCR/requirements.txt\n",
        "!pip install PyYAML==5.4.1"
      ]
    },
    {
      "cell_type": "code",
      "execution_count": null,
      "metadata": {
        "colab": {
          "base_uri": "https://localhost:8080/"
        },
        "id": "0rzCGJ6YbHjz",
        "outputId": "911833ca-c34d-454b-a3c0-e7401c1fb948"
      },
      "outputs": [
        {
          "output_type": "stream",
          "name": "stdout",
          "text": [
            "--2022-09-16 17:23:26--  https://paddleocr.bj.bcebos.com/rec_r45_abinet_train.tar\n",
            "Resolving paddleocr.bj.bcebos.com (paddleocr.bj.bcebos.com)... 220.181.33.43, 220.181.33.44, 2409:8c04:1001:1002:0:ff:b001:368a\n",
            "Connecting to paddleocr.bj.bcebos.com (paddleocr.bj.bcebos.com)|220.181.33.43|:443... connected.\n",
            "HTTP request sent, awaiting response... 200 OK\n",
            "Length: 307732480 (293M) [application/x-tar]\n",
            "Saving to: ‘./pretrain_models/rec_r45_abinet_train.tar’\n",
            "\n",
            "rec_r45_abinet_trai 100%[===================>] 293.48M  13.7MB/s    in 1m 58s  \n",
            "\n",
            "2022-09-16 17:25:25 (2.48 MB/s) - ‘./pretrain_models/rec_r45_abinet_train.tar’ saved [307732480/307732480]\n",
            "\n"
          ]
        }
      ],
      "source": [
        "#!wget -P ./pretrain_models/ https://paddleocr.bj.bcebos.com/dygraph_v2.0/en/rec_r34_vd_none_bilstm_ctc_v2.0_train.tar\n",
        "!wget -P ./pretrain_models/ https://paddleocr.bj.bcebos.com/rec_r45_abinet_train.tar\n",
        "#!wget -P ./pretrain_models/ https://paddleocr.bj.bcebos.com/rec_r45_visionlan_train.tar"
      ]
    },
    {
      "cell_type": "code",
      "execution_count": null,
      "metadata": {
        "colab": {
          "base_uri": "https://localhost:8080/"
        },
        "id": "4hhlSk-wjoEJ",
        "outputId": "98c823be-e0dc-4637-81ce-a4af3c7e7077"
      },
      "outputs": [
        {
          "output_type": "stream",
          "name": "stdout",
          "text": [
            "rec_r45_abinet_train/\n",
            "rec_r45_abinet_train/best_accuracy.states\n",
            "rec_r45_abinet_train/train.log\n",
            "rec_r45_abinet_train/abinet_vl_pretrained.pdparams\n",
            "rec_r45_abinet_train/config.yml\n",
            "rec_r45_abinet_train/best_accuracy.pdparams\n"
          ]
        }
      ],
      "source": [
        "#!tar -xvf \"/content/pretrain_models/rec_r34_vd_none_bilstm_ctc_v2.0_train.tar\" -C \"/content/pretrain_models/\"\n",
        "!tar -xvf \"/content/pretrain_models/rec_r45_abinet_train.tar\" -C \"/content/pretrain_models/\"\n",
        "#!tar -xvf \"/content/pretrain_models/rec_r45_visionlan_train.tar\" -C \"/content/pretrain_models/\""
      ]
    },
    {
      "cell_type": "markdown",
      "source": [
        "не забыть поменять в файле конфига размер изображения на [3,32,400]"
      ],
      "metadata": {
        "id": "7OJMIDMdN20l"
      }
    },
    {
      "cell_type": "code",
      "source": [
        "\n",
        " # \\\n",
        " \n",
        " #Global.pretrained_model=./pretrain_models/rec_r34_vd_none_bilstm_ctc_v2.0_train/best_accuracy \\\n",
        "\n",
        "/content/PaddleOCR/configs/rec/rec_r45_abinet.yml\n",
        "\n",
        " /content/pretrain_models/rec_r45_abinet_train/abinet_vl_pretrained \\\n",
        " /content/PaddleOCR/configs/rec/rec_r45_visionlan.yml\n",
        " "
      ],
      "metadata": {
        "id": "9TqvdOWjQfOm"
      },
      "execution_count": null,
      "outputs": []
    },
    {
      "cell_type": "code",
      "execution_count": null,
      "metadata": {
        "colab": {
          "base_uri": "https://localhost:8080/"
        },
        "id": "a3Gbmb13bLUQ",
        "outputId": "ca5a0020-0a9e-44ee-ad77-bbdc799e235a"
      },
      "outputs": [
        {
          "output_type": "stream",
          "name": "stdout",
          "text": [
            "[2022/09/16 17:33:35] ppocr INFO: Architecture : \n",
            "[2022/09/16 17:33:35] ppocr INFO:     Backbone : \n",
            "[2022/09/16 17:33:35] ppocr INFO:         name : ResNet45\n",
            "[2022/09/16 17:33:35] ppocr INFO:     Head : \n",
            "[2022/09/16 17:33:35] ppocr INFO:         iter_size : 3\n",
            "[2022/09/16 17:33:35] ppocr INFO:         name : ABINetHead\n",
            "[2022/09/16 17:33:35] ppocr INFO:         use_lang : True\n",
            "[2022/09/16 17:33:35] ppocr INFO:     Transform : None\n",
            "[2022/09/16 17:33:35] ppocr INFO:     algorithm : ABINet\n",
            "[2022/09/16 17:33:35] ppocr INFO:     in_channels : 3\n",
            "[2022/09/16 17:33:35] ppocr INFO:     model_type : rec\n",
            "[2022/09/16 17:33:35] ppocr INFO: Eval : \n",
            "[2022/09/16 17:33:35] ppocr INFO:     dataset : \n",
            "[2022/09/16 17:33:35] ppocr INFO:         data_dir : /content/drive/MyDrive/datasets\n",
            "[2022/09/16 17:33:35] ppocr INFO:         label_file_list : /content/drive/MyDrive/datasets/label_val.txt\n",
            "[2022/09/16 17:33:35] ppocr INFO:         name : SimpleDataSet\n",
            "[2022/09/16 17:33:35] ppocr INFO:         transforms : \n",
            "[2022/09/16 17:33:35] ppocr INFO:             DecodeImage : \n",
            "[2022/09/16 17:33:35] ppocr INFO:                 channel_first : False\n",
            "[2022/09/16 17:33:35] ppocr INFO:                 img_mode : RGB\n",
            "[2022/09/16 17:33:35] ppocr INFO:             ABINetLabelEncode : \n",
            "[2022/09/16 17:33:35] ppocr INFO:                 ignore_index : 100\n",
            "[2022/09/16 17:33:35] ppocr INFO:             ABINetRecResizeImg : \n",
            "[2022/09/16 17:33:35] ppocr INFO:                 image_shape : [3, 32, 128]\n",
            "[2022/09/16 17:33:35] ppocr INFO:             KeepKeys : \n",
            "[2022/09/16 17:33:35] ppocr INFO:                 keep_keys : ['image', 'label', 'length']\n",
            "[2022/09/16 17:33:35] ppocr INFO:     loader : \n",
            "[2022/09/16 17:33:35] ppocr INFO:         batch_size_per_card : 256\n",
            "[2022/09/16 17:33:35] ppocr INFO:         drop_last : False\n",
            "[2022/09/16 17:33:35] ppocr INFO:         num_workers : 4\n",
            "[2022/09/16 17:33:35] ppocr INFO:         shuffle : False\n",
            "[2022/09/16 17:33:35] ppocr INFO:         use_shared_memory : False\n",
            "[2022/09/16 17:33:35] ppocr INFO: Global : \n",
            "[2022/09/16 17:33:35] ppocr INFO:     cal_metric_during_train : True\n",
            "[2022/09/16 17:33:35] ppocr INFO:     character_dict_path : /content/drive/MyDrive/datasets/word_dict.txt\n",
            "[2022/09/16 17:33:35] ppocr INFO:     character_type : en\n",
            "[2022/09/16 17:33:35] ppocr INFO:     checkpoints : None\n",
            "[2022/09/16 17:33:35] ppocr INFO:     distributed : False\n",
            "[2022/09/16 17:33:35] ppocr INFO:     epoch_num : 250\n",
            "[2022/09/16 17:33:35] ppocr INFO:     eval_batch_step : 50\n",
            "[2022/09/16 17:33:35] ppocr INFO:     infer_img : doc/imgs_words_en/word_10.png\n",
            "[2022/09/16 17:33:35] ppocr INFO:     infer_mode : False\n",
            "[2022/09/16 17:33:35] ppocr INFO:     log_smooth_window : 20\n",
            "[2022/09/16 17:33:35] ppocr INFO:     max_text_length : 25\n",
            "[2022/09/16 17:33:35] ppocr INFO:     pretrained_model : /content/pretrain_models/rec_r45_abinet_train/best_accuracy\n",
            "[2022/09/16 17:33:35] ppocr INFO:     print_batch_step : 10\n",
            "[2022/09/16 17:33:35] ppocr INFO:     save_epoch_step : 1\n",
            "[2022/09/16 17:33:35] ppocr INFO:     save_inference_dir : None\n",
            "[2022/09/16 17:33:35] ppocr INFO:     save_model_dir : ./output/rec/r45_abinet/\n",
            "[2022/09/16 17:33:35] ppocr INFO:     save_res_path : ./output/rec/predicts_abinet.txt\n",
            "[2022/09/16 17:33:35] ppocr INFO:     use_gpu : True\n",
            "[2022/09/16 17:33:35] ppocr INFO:     use_space_char : False\n",
            "[2022/09/16 17:33:35] ppocr INFO:     use_visualdl : False\n",
            "[2022/09/16 17:33:35] ppocr INFO: Loss : \n",
            "[2022/09/16 17:33:35] ppocr INFO:     ignore_index : 100\n",
            "[2022/09/16 17:33:35] ppocr INFO:     name : CELoss\n",
            "[2022/09/16 17:33:35] ppocr INFO: Metric : \n",
            "[2022/09/16 17:33:35] ppocr INFO:     main_indicator : acc\n",
            "[2022/09/16 17:33:35] ppocr INFO:     name : RecMetric\n",
            "[2022/09/16 17:33:35] ppocr INFO: Optimizer : \n",
            "[2022/09/16 17:33:35] ppocr INFO:     beta1 : 0.9\n",
            "[2022/09/16 17:33:35] ppocr INFO:     beta2 : 0.99\n",
            "[2022/09/16 17:33:35] ppocr INFO:     clip_norm : 20.0\n",
            "[2022/09/16 17:33:35] ppocr INFO:     lr : \n",
            "[2022/09/16 17:33:35] ppocr INFO:         decay_epochs : [6]\n",
            "[2022/09/16 17:33:35] ppocr INFO:         learning_rate : 0.0005\n",
            "[2022/09/16 17:33:35] ppocr INFO:         name : Piecewise\n",
            "[2022/09/16 17:33:35] ppocr INFO:         values : [0.0001, 1e-05]\n",
            "[2022/09/16 17:33:35] ppocr INFO:     name : Adam\n",
            "[2022/09/16 17:33:35] ppocr INFO:     regularizer : \n",
            "[2022/09/16 17:33:35] ppocr INFO:         factor : 0.0\n",
            "[2022/09/16 17:33:35] ppocr INFO:         name : L2\n",
            "[2022/09/16 17:33:35] ppocr INFO: PostProcess : \n",
            "[2022/09/16 17:33:35] ppocr INFO:     name : ABINetLabelDecode\n",
            "[2022/09/16 17:33:35] ppocr INFO: Train : \n",
            "[2022/09/16 17:33:35] ppocr INFO:     dataset : \n",
            "[2022/09/16 17:33:35] ppocr INFO:         batch_size_per_card : 130\n",
            "[2022/09/16 17:33:35] ppocr INFO:         data_dir : /content/drive/MyDrive/datasets\n",
            "[2022/09/16 17:33:35] ppocr INFO:         label_file_list : /content/drive/MyDrive/datasets/label_train.txt\n",
            "[2022/09/16 17:33:35] ppocr INFO:         name : SimpleDataSet\n",
            "[2022/09/16 17:33:35] ppocr INFO:         transforms : \n",
            "[2022/09/16 17:33:35] ppocr INFO:             DecodeImage : \n",
            "[2022/09/16 17:33:35] ppocr INFO:                 channel_first : False\n",
            "[2022/09/16 17:33:35] ppocr INFO:                 img_mode : RGB\n",
            "[2022/09/16 17:33:35] ppocr INFO:             ABINetRecAug : None\n",
            "[2022/09/16 17:33:35] ppocr INFO:             ABINetLabelEncode : \n",
            "[2022/09/16 17:33:35] ppocr INFO:                 ignore_index : 100\n",
            "[2022/09/16 17:33:35] ppocr INFO:             ABINetRecResizeImg : \n",
            "[2022/09/16 17:33:35] ppocr INFO:                 image_shape : [3, 32, 128]\n",
            "[2022/09/16 17:33:35] ppocr INFO:             KeepKeys : \n",
            "[2022/09/16 17:33:35] ppocr INFO:                 keep_keys : ['image', 'label', 'length']\n",
            "[2022/09/16 17:33:35] ppocr INFO:     loader : \n",
            "[2022/09/16 17:33:35] ppocr INFO:         batch_size_per_card : 130\n",
            "[2022/09/16 17:33:35] ppocr INFO:         drop_last : True\n",
            "[2022/09/16 17:33:35] ppocr INFO:         num_workers : 4\n",
            "[2022/09/16 17:33:35] ppocr INFO:         shuffle : True\n",
            "[2022/09/16 17:33:35] ppocr INFO: profiler_options : None\n",
            "[2022/09/16 17:33:35] ppocr INFO: train with paddle 2.3.2 and device Place(gpu:0)\n",
            "[2022/09/16 17:33:35] ppocr INFO: Initialize indexs of datasets:/content/drive/MyDrive/datasets/label_train.txt\n",
            "[2022/09/16 17:33:35] ppocr INFO: Initialize indexs of datasets:/content/drive/MyDrive/datasets/label_val.txt\n",
            "W0916 17:33:35.659904   513 gpu_resources.cc:61] Please NOTE: device: 0, GPU Compute Capability: 7.5, Driver API Version: 11.2, Runtime API Version: 10.2\n",
            "W0916 17:33:35.670476   513 gpu_resources.cc:91] device: 0, cuDNN Version: 7.6.\n",
            "[2022/09/16 17:33:36] ppocr INFO: train dataloader has 77 iters\n",
            "[2022/09/16 17:33:36] ppocr INFO: valid dataloader has 1 iters\n",
            "[2022/09/16 17:33:36] ppocr WARNING: The shape of model params head.cls.weight [512, 12] not matched with loaded params head.cls.weight [512, 37] !\n",
            "[2022/09/16 17:33:36] ppocr WARNING: The shape of model params head.cls.bias [12] not matched with loaded params head.cls.bias [37] !\n",
            "[2022/09/16 17:33:36] ppocr WARNING: The shape of model params head.language.proj.weight [12, 512] not matched with loaded params head.language.proj.weight [37, 512] !\n",
            "[2022/09/16 17:33:36] ppocr WARNING: The shape of model params head.language.cls.weight [512, 12] not matched with loaded params head.language.cls.weight [512, 37] !\n",
            "[2022/09/16 17:33:36] ppocr WARNING: The shape of model params head.language.cls.bias [12] not matched with loaded params head.language.cls.bias [37] !\n",
            "[2022/09/16 17:33:36] ppocr WARNING: The shape of model params head.cls_align.weight [512, 12] not matched with loaded params head.cls_align.weight [512, 37] !\n",
            "[2022/09/16 17:33:36] ppocr WARNING: The shape of model params head.cls_align.bias [12] not matched with loaded params head.cls_align.bias [37] !\n",
            "[2022/09/16 17:33:37] ppocr INFO: load pretrain successful from /content/pretrain_models/rec_r45_abinet_train/best_accuracy\n",
            "[2022/09/16 17:37:26] ppocr INFO: epoch: [1/250], global_step: 10, lr: 0.000100, acc: 0.000000, norm_edit_dis: 0.127050, align_loss: 2.491606, lang_loss: 2.456978, vision_loss: 2.530664, loss: 7.479249, avg_reader_cost: 21.30748 s, avg_batch_cost: 22.92996 s, avg_samples: 130.0, ips: 5.66944 samples/s, eta: 5 days, 2:32:52\n",
            "[2022/09/16 17:40:00] ppocr INFO: epoch: [1/250], global_step: 20, lr: 0.000100, acc: 0.000000, norm_edit_dis: 0.141087, align_loss: 2.441360, lang_loss: 2.438428, vision_loss: 2.438584, loss: 7.318679, avg_reader_cost: 13.99154 s, avg_batch_cost: 15.45647 s, avg_samples: 130.0, ips: 8.41072 samples/s, eta: 4 days, 6:31:25\n",
            "[2022/09/16 17:43:43] ppocr INFO: epoch: [1/250], global_step: 30, lr: 0.000100, acc: 0.000000, norm_edit_dis: 0.168535, align_loss: 2.380756, lang_loss: 2.414386, vision_loss: 2.362234, loss: 7.154194, avg_reader_cost: 20.69482 s, avg_batch_cost: 22.22180 s, avg_samples: 130.0, ips: 5.85011 samples/s, eta: 4 days, 11:51:36\n",
            "[2022/09/16 17:46:16] ppocr INFO: epoch: [1/250], global_step: 40, lr: 0.000100, acc: 0.000000, norm_edit_dis: 0.195660, align_loss: 2.304668, lang_loss: 2.408154, vision_loss: 2.267861, loss: 6.982627, avg_reader_cost: 13.76898 s, avg_batch_cost: 15.30848 s, avg_samples: 130.0, ips: 8.49202 samples/s, eta: 4 days, 5:16:30\n",
            "[2022/09/16 17:49:56] ppocr INFO: epoch: [1/250], global_step: 50, lr: 0.000100, acc: 0.000000, norm_edit_dis: 0.236934, align_loss: 2.148328, lang_loss: 2.404043, vision_loss: 2.095207, loss: 6.647028, avg_reader_cost: 20.48475 s, avg_batch_cost: 22.01831 s, avg_samples: 130.0, ips: 5.90418 samples/s, eta: 4 days, 8:27:50\n",
            "eval model:: 100% 1/1 [00:32<00:00, 32.76s/it]\n",
            "[2022/09/16 17:50:29] ppocr INFO: cur metric, acc: 0.019999996000000797, norm_edit_dis: 0.5825000834999834, fps: 187.35009505295807\n",
            "[2022/09/16 17:50:30] ppocr INFO: save best model is to ./output/rec/r45_abinet/best_accuracy\n",
            "[2022/09/16 17:50:30] ppocr INFO: best metric, acc: 0.019999996000000797, is_float16: False, norm_edit_dis: 0.5825000834999834, fps: 187.35009505295807, best_epoch: 1\n",
            "[2022/09/16 17:52:28] ppocr INFO: epoch: [1/250], global_step: 60, lr: 0.000100, acc: 0.000000, norm_edit_dis: 0.389423, align_loss: 1.805719, lang_loss: 2.403766, vision_loss: 1.751476, loss: 5.962400, avg_reader_cost: 10.30587 s, avg_batch_cost: 11.76342 s, avg_samples: 130.0, ips: 11.05121 samples/s, eta: 4 days, 1:27:32\n",
            "[2022/09/16 17:56:05] ppocr INFO: epoch: [1/250], global_step: 70, lr: 0.000100, acc: 0.076923, norm_edit_dis: 0.561058, align_loss: 1.365609, lang_loss: 2.403060, vision_loss: 1.321854, loss: 5.090688, avg_reader_cost: 20.25257 s, avg_batch_cost: 21.68736 s, avg_samples: 130.0, ips: 5.99428 samples/s, eta: 4 days, 3:59:57\n",
            "[2022/09/16 17:58:32] ppocr INFO: epoch: [1/250], global_step: 77, lr: 0.000100, acc: 0.161538, norm_edit_dis: 0.655769, align_loss: 1.026286, lang_loss: 2.402233, vision_loss: 1.003660, loss: 4.431510, avg_reader_cost: 13.72594 s, avg_batch_cost: 14.74167 s, avg_samples: 91.0, ips: 6.17298 samples/s, eta: 4 days, 5:04:17\n",
            "[2022/09/16 17:58:34] ppocr INFO: save model in ./output/rec/r45_abinet/latest\n",
            "[2022/09/16 17:58:35] ppocr INFO: save model in ./output/rec/r45_abinet/iter_epoch_1\n",
            "[2022/09/16 17:58:45] ppocr INFO: epoch: [2/250], global_step: 80, lr: 0.000100, acc: 0.200000, norm_edit_dis: 0.683413, align_loss: 0.962304, lang_loss: 2.401099, vision_loss: 0.942642, loss: 4.306780, avg_reader_cost: 0.80619 s, avg_batch_cost: 1.29444 s, avg_samples: 39.0, ips: 30.12888 samples/s, eta: 4 days, 2:07:39\n",
            "[2022/09/16 17:59:02] ppocr INFO: epoch: [2/250], global_step: 90, lr: 0.000100, acc: 0.292308, norm_edit_dis: 0.743029, align_loss: 0.770508, lang_loss: 2.398269, vision_loss: 0.766446, loss: 3.940672, avg_reader_cost: 0.17399 s, avg_batch_cost: 1.73700 s, avg_samples: 130.0, ips: 74.84168 samples/s, eta: 3 days, 16:12:22\n",
            "[2022/09/16 17:59:20] ppocr INFO: epoch: [2/250], global_step: 100, lr: 0.000100, acc: 0.361538, norm_edit_dis: 0.782933, align_loss: 0.640328, lang_loss: 2.388084, vision_loss: 0.641333, loss: 3.665654, avg_reader_cost: 0.13702 s, avg_batch_cost: 1.73555 s, avg_samples: 130.0, ips: 74.90442 samples/s, eta: 3 days, 8:16:02\n",
            "eval model:: 100% 1/1 [00:02<00:00,  2.02s/it]\n",
            "[2022/09/16 17:59:22] ppocr INFO: cur metric, acc: 0.5199998960000207, norm_edit_dis: 0.9175000164999967, fps: 148.86710900016396\n",
            "[2022/09/16 17:59:25] ppocr INFO: save best model is to ./output/rec/r45_abinet/best_accuracy\n",
            "[2022/09/16 17:59:25] ppocr INFO: best metric, acc: 0.5199998960000207, is_float16: False, norm_edit_dis: 0.9175000164999967, fps: 148.86710900016396, best_epoch: 2\n",
            "[2022/09/16 17:59:41] ppocr INFO: epoch: [2/250], global_step: 110, lr: 0.000100, acc: 0.407692, norm_edit_dis: 0.818269, align_loss: 0.538268, lang_loss: 2.360496, vision_loss: 0.542553, loss: 3.451424, avg_reader_cost: 0.00369 s, avg_batch_cost: 1.59957 s, avg_samples: 130.0, ips: 81.27206 samples/s, eta: 3 days, 1:42:19\n",
            "[2022/09/16 17:59:57] ppocr INFO: epoch: [2/250], global_step: 120, lr: 0.000100, acc: 0.438462, norm_edit_dis: 0.836058, align_loss: 0.470427, lang_loss: 2.273105, vision_loss: 0.474869, loss: 3.248455, avg_reader_cost: 0.00335 s, avg_batch_cost: 1.61545 s, avg_samples: 130.0, ips: 80.47304 samples/s, eta: 2 days, 20:14:36\n",
            "[2022/09/16 18:00:13] ppocr INFO: epoch: [2/250], global_step: 130, lr: 0.000100, acc: 0.469231, norm_edit_dis: 0.846875, align_loss: 0.444993, lang_loss: 2.202187, vision_loss: 0.443380, loss: 3.101376, avg_reader_cost: 0.00354 s, avg_batch_cost: 1.63691 s, avg_samples: 130.0, ips: 79.41808 samples/s, eta: 2 days, 15:37:46\n",
            "[2022/09/16 18:00:29] ppocr INFO: epoch: [2/250], global_step: 140, lr: 0.000100, acc: 0.488462, norm_edit_dis: 0.852644, align_loss: 0.420843, lang_loss: 2.190673, vision_loss: 0.423970, loss: 3.037265, avg_reader_cost: 0.00592 s, avg_batch_cost: 1.60203 s, avg_samples: 130.0, ips: 81.14720 samples/s, eta: 2 days, 11:39:40\n",
            "[2022/09/16 18:00:46] ppocr INFO: epoch: [2/250], global_step: 150, lr: 0.000100, acc: 0.496154, norm_edit_dis: 0.856490, align_loss: 0.413128, lang_loss: 2.185800, vision_loss: 0.420073, loss: 3.017197, avg_reader_cost: 0.09968 s, avg_batch_cost: 1.66530 s, avg_samples: 130.0, ips: 78.06416 samples/s, eta: 2 days, 8:14:37\n",
            "eval model:: 100% 1/1 [00:00<00:00,  1.42it/s]\n",
            "[2022/09/16 18:00:47] ppocr INFO: cur metric, acc: 0.6399998720000255, norm_edit_dis: 0.9475000104999979, fps: 248.02780737784894\n",
            "[2022/09/16 18:00:48] ppocr INFO: save best model is to ./output/rec/r45_abinet/best_accuracy\n",
            "[2022/09/16 18:00:48] ppocr INFO: best metric, acc: 0.6399998720000255, is_float16: False, norm_edit_dis: 0.9475000104999979, fps: 248.02780737784894, best_epoch: 2\n",
            "[2022/09/16 18:00:54] ppocr INFO: epoch: [2/250], global_step: 154, lr: 0.000100, acc: 0.488462, norm_edit_dis: 0.857692, align_loss: 0.399004, lang_loss: 2.184548, vision_loss: 0.403164, loss: 2.989400, avg_reader_cost: 0.00010 s, avg_batch_cost: 0.59526 s, avg_samples: 52.0, ips: 87.35734 samples/s, eta: 2 days, 6:58:35\n",
            "[2022/09/16 18:00:56] ppocr INFO: save model in ./output/rec/r45_abinet/latest\n",
            "[2022/09/16 18:00:57] ppocr INFO: save model in ./output/rec/r45_abinet/iter_epoch_2\n",
            "[2022/09/16 18:01:13] ppocr INFO: epoch: [3/250], global_step: 160, lr: 0.000100, acc: 0.492308, norm_edit_dis: 0.866106, align_loss: 0.384423, lang_loss: 2.183452, vision_loss: 0.383849, loss: 2.954085, avg_reader_cost: 0.95684 s, avg_batch_cost: 1.92868 s, avg_samples: 78.0, ips: 40.44219 samples/s, eta: 2 days, 5:32:14\n",
            "[2022/09/16 18:01:30] ppocr INFO: epoch: [3/250], global_step: 170, lr: 0.000100, acc: 0.500000, norm_edit_dis: 0.869952, align_loss: 0.367539, lang_loss: 2.181398, vision_loss: 0.371487, loss: 2.918891, avg_reader_cost: 0.05109 s, avg_batch_cost: 1.71215 s, avg_samples: 130.0, ips: 75.92803 samples/s, eta: 2 days, 2:53:43\n",
            "[2022/09/16 18:01:47] ppocr INFO: epoch: [3/250], global_step: 180, lr: 0.000100, acc: 0.523077, norm_edit_dis: 0.873077, align_loss: 0.369339, lang_loss: 2.180453, vision_loss: 0.372027, loss: 2.922221, avg_reader_cost: 0.00524 s, avg_batch_cost: 1.63133 s, avg_samples: 130.0, ips: 79.68966 samples/s, eta: 2 days, 0:31:22\n",
            "[2022/09/16 18:02:04] ppocr INFO: epoch: [3/250], global_step: 190, lr: 0.000100, acc: 0.538461, norm_edit_dis: 0.880288, align_loss: 0.342575, lang_loss: 2.180271, vision_loss: 0.347687, loss: 2.870323, avg_reader_cost: 0.00376 s, avg_batch_cost: 1.68056 s, avg_samples: 130.0, ips: 77.35530 samples/s, eta: 1 day, 22:24:47\n",
            "[2022/09/16 18:02:22] ppocr INFO: epoch: [3/250], global_step: 200, lr: 0.000100, acc: 0.553846, norm_edit_dis: 0.887981, align_loss: 0.314475, lang_loss: 2.179412, vision_loss: 0.316409, loss: 2.808193, avg_reader_cost: 0.20671 s, avg_batch_cost: 1.85447 s, avg_samples: 130.0, ips: 70.10080 samples/s, eta: 1 day, 20:33:36\n",
            "eval model:: 100% 1/1 [00:01<00:00,  1.33s/it]\n",
            "[2022/09/16 18:02:24] ppocr INFO: cur metric, acc: 0.6399998720000255, norm_edit_dis: 0.9537500092499982, fps: 239.15029683505185\n",
            "[2022/09/16 18:02:25] ppocr INFO: save best model is to ./output/rec/r45_abinet/best_accuracy\n",
            "[2022/09/16 18:02:25] ppocr INFO: best metric, acc: 0.6399998720000255, is_float16: False, norm_edit_dis: 0.9537500092499982, fps: 239.15029683505185, best_epoch: 3\n",
            "[2022/09/16 18:02:41] ppocr INFO: epoch: [3/250], global_step: 210, lr: 0.000100, acc: 0.565385, norm_edit_dis: 0.890865, align_loss: 0.309012, lang_loss: 2.177432, vision_loss: 0.308503, loss: 2.793247, avg_reader_cost: 0.00404 s, avg_batch_cost: 1.54709 s, avg_samples: 130.0, ips: 84.02897 samples/s, eta: 1 day, 18:48:19\n",
            "[2022/09/16 18:02:57] ppocr INFO: epoch: [3/250], global_step: 220, lr: 0.000100, acc: 0.569231, norm_edit_dis: 0.892067, align_loss: 0.303045, lang_loss: 2.176942, vision_loss: 0.305340, loss: 2.783954, avg_reader_cost: 0.00360 s, avg_batch_cost: 1.57886 s, avg_samples: 130.0, ips: 82.33813 samples/s, eta: 1 day, 17:13:03\n",
            "[2022/09/16 18:03:12] ppocr INFO: epoch: [3/250], global_step: 230, lr: 0.000100, acc: 0.569231, norm_edit_dis: 0.894231, align_loss: 0.300744, lang_loss: 2.177326, vision_loss: 0.298000, loss: 2.779240, avg_reader_cost: 0.00136 s, avg_batch_cost: 1.54062 s, avg_samples: 130.0, ips: 84.38177 samples/s, eta: 1 day, 15:45:31\n",
            "[2022/09/16 18:03:13] ppocr INFO: epoch: [3/250], global_step: 231, lr: 0.000100, acc: 0.569231, norm_edit_dis: 0.894231, align_loss: 0.300744, lang_loss: 2.177688, vision_loss: 0.298000, loss: 2.779240, avg_reader_cost: 0.00003 s, avg_batch_cost: 0.15178 s, avg_samples: 13.0, ips: 85.64907 samples/s, eta: 1 day, 15:37:09\n",
            "[2022/09/16 18:03:15] ppocr INFO: save model in ./output/rec/r45_abinet/latest\n",
            "[2022/09/16 18:03:17] ppocr INFO: save model in ./output/rec/r45_abinet/iter_epoch_3\n",
            "[2022/09/16 18:03:38] ppocr INFO: epoch: [4/250], global_step: 240, lr: 0.000100, acc: 0.569231, norm_edit_dis: 0.889423, align_loss: 0.310410, lang_loss: 2.176590, vision_loss: 0.313520, loss: 2.796502, avg_reader_cost: 0.89755 s, avg_batch_cost: 2.41214 s, avg_samples: 117.0, ips: 48.50469 samples/s, eta: 1 day, 14:38:46\n",
            "[2022/09/16 18:03:54] ppocr INFO: epoch: [4/250], global_step: 250, lr: 0.000100, acc: 0.569231, norm_edit_dis: 0.888462, align_loss: 0.316307, lang_loss: 2.176180, vision_loss: 0.320433, loss: 2.810785, avg_reader_cost: 0.00410 s, avg_batch_cost: 1.66974 s, avg_samples: 130.0, ips: 77.85658 samples/s, eta: 1 day, 13:26:00\n",
            "eval model:: 100% 1/1 [00:01<00:00,  1.23s/it]\n",
            "[2022/09/16 18:03:56] ppocr INFO: cur metric, acc: 0.6199998760000247, norm_edit_dis: 0.9550000089999982, fps: 209.4431333697527\n",
            "[2022/09/16 18:03:56] ppocr INFO: best metric, acc: 0.6399998720000255, is_float16: False, norm_edit_dis: 0.9537500092499982, fps: 239.15029683505185, best_epoch: 3\n",
            "[2022/09/16 18:04:12] ppocr INFO: epoch: [4/250], global_step: 260, lr: 0.000100, acc: 0.565385, norm_edit_dis: 0.889904, align_loss: 0.311203, lang_loss: 2.175616, vision_loss: 0.312614, loss: 2.799662, avg_reader_cost: 0.00691 s, avg_batch_cost: 1.64947 s, avg_samples: 130.0, ips: 78.81324 samples/s, eta: 1 day, 12:18:33\n",
            "[2022/09/16 18:04:28] ppocr INFO: epoch: [4/250], global_step: 270, lr: 0.000100, acc: 0.565385, norm_edit_dis: 0.895433, align_loss: 0.297625, lang_loss: 2.175196, vision_loss: 0.298133, loss: 2.772292, avg_reader_cost: 0.00422 s, avg_batch_cost: 1.60389 s, avg_samples: 130.0, ips: 81.05290 samples/s, eta: 1 day, 11:15:33\n",
            "[2022/09/16 18:04:44] ppocr INFO: epoch: [4/250], global_step: 280, lr: 0.000100, acc: 0.600000, norm_edit_dis: 0.901202, align_loss: 0.277277, lang_loss: 2.174517, vision_loss: 0.279093, loss: 2.731382, avg_reader_cost: 0.00575 s, avg_batch_cost: 1.61437 s, avg_samples: 130.0, ips: 80.52701 samples/s, eta: 1 day, 10:17:09\n",
            "[2022/09/16 18:05:01] ppocr INFO: epoch: [4/250], global_step: 290, lr: 0.000100, acc: 0.600000, norm_edit_dis: 0.903606, align_loss: 0.270256, lang_loss: 2.175175, vision_loss: 0.273947, loss: 2.714806, avg_reader_cost: 0.00454 s, avg_batch_cost: 1.70065 s, avg_samples: 130.0, ips: 76.44157 samples/s, eta: 1 day, 9:23:42\n",
            "[2022/09/16 18:05:18] ppocr INFO: epoch: [4/250], global_step: 300, lr: 0.000100, acc: 0.580769, norm_edit_dis: 0.901442, align_loss: 0.279005, lang_loss: 2.175098, vision_loss: 0.282564, loss: 2.736480, avg_reader_cost: 0.00464 s, avg_batch_cost: 1.65614 s, avg_samples: 130.0, ips: 78.49559 samples/s, eta: 1 day, 8:33:19\n",
            "eval model:: 100% 1/1 [00:01<00:00,  1.17s/it]\n",
            "[2022/09/16 18:05:19] ppocr INFO: cur metric, acc: 0.7599998480000304, norm_edit_dis: 0.9712500057499989, fps: 216.95992584377535\n",
            "[2022/09/16 18:05:21] ppocr INFO: save best model is to ./output/rec/r45_abinet/best_accuracy\n",
            "[2022/09/16 18:05:21] ppocr INFO: best metric, acc: 0.7599998480000304, is_float16: False, norm_edit_dis: 0.9712500057499989, fps: 216.95992584377535, best_epoch: 4\n",
            "[2022/09/16 18:05:33] ppocr INFO: epoch: [4/250], global_step: 308, lr: 0.000100, acc: 0.596154, norm_edit_dis: 0.900721, align_loss: 0.277795, lang_loss: 2.174866, vision_loss: 0.278412, loss: 2.732502, avg_reader_cost: 0.00025 s, avg_batch_cost: 1.22956 s, avg_samples: 104.0, ips: 84.58296 samples/s, eta: 1 day, 7:54:23\n",
            "[2022/09/16 18:05:35] ppocr INFO: save model in ./output/rec/r45_abinet/latest\n",
            "[2022/09/16 18:05:37] ppocr INFO: save model in ./output/rec/r45_abinet/iter_epoch_4\n",
            "[2022/09/16 18:05:46] ppocr INFO: epoch: [5/250], global_step: 310, lr: 0.000100, acc: 0.596154, norm_edit_dis: 0.900721, align_loss: 0.277795, lang_loss: 2.174598, vision_loss: 0.278412, loss: 2.732502, avg_reader_cost: 0.96996 s, avg_batch_cost: 1.30838 s, avg_samples: 26.0, ips: 19.87185 samples/s, eta: 1 day, 7:55:10\n",
            "[2022/09/16 18:06:03] ppocr INFO: epoch: [5/250], global_step: 320, lr: 0.000100, acc: 0.623077, norm_edit_dis: 0.908894, align_loss: 0.256931, lang_loss: 2.174084, vision_loss: 0.257121, loss: 2.688841, avg_reader_cost: 0.00286 s, avg_batch_cost: 1.70137 s, avg_samples: 130.0, ips: 76.40887 samples/s, eta: 1 day, 7:11:06\n",
            "[2022/09/16 18:06:20] ppocr INFO: epoch: [5/250], global_step: 330, lr: 0.000100, acc: 0.630769, norm_edit_dis: 0.907452, align_loss: 0.248959, lang_loss: 2.173881, vision_loss: 0.247452, loss: 2.666187, avg_reader_cost: 0.00655 s, avg_batch_cost: 1.69608 s, avg_samples: 130.0, ips: 76.64741 samples/s, eta: 1 day, 6:29:39\n",
            "[2022/09/16 18:06:37] ppocr INFO: epoch: [5/250], global_step: 340, lr: 0.000100, acc: 0.619231, norm_edit_dis: 0.903365, align_loss: 0.275360, lang_loss: 2.173469, vision_loss: 0.278640, loss: 2.729138, avg_reader_cost: 0.00428 s, avg_batch_cost: 1.67840 s, avg_samples: 130.0, ips: 77.45449 samples/s, eta: 1 day, 5:50:28\n",
            "[2022/09/16 18:06:54] ppocr INFO: epoch: [5/250], global_step: 350, lr: 0.000100, acc: 0.619231, norm_edit_dis: 0.907933, align_loss: 0.252669, lang_loss: 2.172802, vision_loss: 0.253591, loss: 2.679348, avg_reader_cost: 0.00319 s, avg_batch_cost: 1.64466 s, avg_samples: 130.0, ips: 79.04383 samples/s, eta: 1 day, 5:13:11\n",
            "eval model:: 100% 1/1 [00:01<00:00,  1.43s/it]\n",
            "[2022/09/16 18:06:55] ppocr INFO: cur metric, acc: 0.7599998480000304, norm_edit_dis: 0.9712500057499989, fps: 224.89469214073077\n",
            "[2022/09/16 18:06:58] ppocr INFO: save best model is to ./output/rec/r45_abinet/best_accuracy\n",
            "[2022/09/16 18:06:58] ppocr INFO: best metric, acc: 0.7599998480000304, is_float16: False, norm_edit_dis: 0.9712500057499989, fps: 224.89469214073077, best_epoch: 5\n",
            "[2022/09/16 18:07:13] ppocr INFO: epoch: [5/250], global_step: 360, lr: 0.000100, acc: 0.634615, norm_edit_dis: 0.913221, align_loss: 0.243335, lang_loss: 2.173236, vision_loss: 0.243663, loss: 2.660708, avg_reader_cost: 0.00268 s, avg_batch_cost: 1.58353 s, avg_samples: 130.0, ips: 82.09503 samples/s, eta: 1 day, 4:37:26\n",
            "[2022/09/16 18:07:30] ppocr INFO: epoch: [5/250], global_step: 370, lr: 0.000100, acc: 0.642308, norm_edit_dis: 0.917788, align_loss: 0.229993, lang_loss: 2.173153, vision_loss: 0.232625, loss: 2.636470, avg_reader_cost: 0.00527 s, avg_batch_cost: 1.65497 s, avg_samples: 130.0, ips: 78.55146 samples/s, eta: 1 day, 4:04:12\n",
            "[2022/09/16 18:07:46] ppocr INFO: epoch: [5/250], global_step: 380, lr: 0.000100, acc: 0.646154, norm_edit_dis: 0.912019, align_loss: 0.245559, lang_loss: 2.172661, vision_loss: 0.246287, loss: 2.665122, avg_reader_cost: 0.00417 s, avg_batch_cost: 1.62382 s, avg_samples: 130.0, ips: 80.05820 samples/s, eta: 1 day, 3:32:27\n",
            "[2022/09/16 18:07:54] ppocr INFO: epoch: [5/250], global_step: 385, lr: 0.000100, acc: 0.634615, norm_edit_dis: 0.906971, align_loss: 0.253161, lang_loss: 2.172661, vision_loss: 0.255041, loss: 2.682027, avg_reader_cost: 0.00012 s, avg_batch_cost: 0.76214 s, avg_samples: 65.0, ips: 85.28635 samples/s, eta: 1 day, 3:16:47\n",
            "[2022/09/16 18:07:55] ppocr INFO: save model in ./output/rec/r45_abinet/latest\n",
            "[2022/09/16 18:07:57] ppocr INFO: save model in ./output/rec/r45_abinet/iter_epoch_5\n",
            "[2022/09/16 18:08:11] ppocr INFO: epoch: [6/250], global_step: 390, lr: 0.000100, acc: 0.630769, norm_edit_dis: 0.903125, align_loss: 0.256282, lang_loss: 2.172266, vision_loss: 0.257730, loss: 2.687886, avg_reader_cost: 0.85188 s, avg_batch_cost: 1.68291 s, avg_samples: 65.0, ips: 38.62347 samples/s, eta: 1 day, 3:08:56\n",
            "[2022/09/16 18:08:30] ppocr INFO: epoch: [6/250], global_step: 400, lr: 0.000100, acc: 0.626923, norm_edit_dis: 0.902404, align_loss: 0.270842, lang_loss: 2.172023, vision_loss: 0.272128, loss: 2.713912, avg_reader_cost: 0.26756 s, avg_batch_cost: 1.92071 s, avg_samples: 130.0, ips: 67.68325 samples/s, eta: 1 day, 2:42:27\n",
            "eval model:: 100% 1/1 [00:01<00:00,  1.35s/it]\n",
            "[2022/09/16 18:08:31] ppocr INFO: cur metric, acc: 0.7399998520000296, norm_edit_dis: 0.9662500067499986, fps: 233.7678030205917\n",
            "[2022/09/16 18:08:31] ppocr INFO: best metric, acc: 0.7599998480000304, is_float16: False, norm_edit_dis: 0.9712500057499989, fps: 224.89469214073077, best_epoch: 5\n",
            "[2022/09/16 18:08:48] ppocr INFO: epoch: [6/250], global_step: 410, lr: 0.000100, acc: 0.630769, norm_edit_dis: 0.907452, align_loss: 0.263105, lang_loss: 2.173036, vision_loss: 0.262180, loss: 2.699134, avg_reader_cost: 0.00574 s, avg_batch_cost: 1.67348 s, avg_samples: 130.0, ips: 77.68263 samples/s, eta: 1 day, 2:15:22\n",
            "[2022/09/16 18:09:04] ppocr INFO: epoch: [6/250], global_step: 420, lr: 0.000100, acc: 0.653846, norm_edit_dis: 0.919471, align_loss: 0.228179, lang_loss: 2.172863, vision_loss: 0.229682, loss: 2.629717, avg_reader_cost: 0.00622 s, avg_batch_cost: 1.64015 s, avg_samples: 130.0, ips: 79.26093 samples/s, eta: 1 day, 1:49:17\n",
            "[2022/09/16 18:09:21] ppocr INFO: epoch: [6/250], global_step: 430, lr: 0.000100, acc: 0.669231, norm_edit_dis: 0.921154, align_loss: 0.224161, lang_loss: 2.172054, vision_loss: 0.225387, loss: 2.619607, avg_reader_cost: 0.00610 s, avg_batch_cost: 1.67529 s, avg_samples: 130.0, ips: 77.59871 samples/s, eta: 1 day, 1:24:41\n",
            "[2022/09/16 18:09:38] ppocr INFO: epoch: [6/250], global_step: 440, lr: 0.000100, acc: 0.669231, norm_edit_dis: 0.914904, align_loss: 0.244115, lang_loss: 2.171254, vision_loss: 0.245668, loss: 2.662774, avg_reader_cost: 0.00495 s, avg_batch_cost: 1.63080 s, avg_samples: 130.0, ips: 79.71530 samples/s, eta: 1 day, 1:00:51\n",
            "[2022/09/16 18:09:54] ppocr INFO: epoch: [6/250], global_step: 450, lr: 0.000100, acc: 0.673077, norm_edit_dis: 0.913462, align_loss: 0.241105, lang_loss: 2.172156, vision_loss: 0.240131, loss: 2.653103, avg_reader_cost: 0.00395 s, avg_batch_cost: 1.62665 s, avg_samples: 130.0, ips: 79.91884 samples/s, eta: 1 day, 0:38:03\n",
            "eval model:: 100% 1/1 [00:01<00:00,  1.06s/it]\n",
            "[2022/09/16 18:09:55] ppocr INFO: cur metric, acc: 0.7399998520000296, norm_edit_dis: 0.9687500062499987, fps: 240.2640536264411\n",
            "[2022/09/16 18:09:55] ppocr INFO: best metric, acc: 0.7599998480000304, is_float16: False, norm_edit_dis: 0.9712500057499989, fps: 224.89469214073077, best_epoch: 5\n",
            "[2022/09/16 18:10:10] ppocr INFO: epoch: [6/250], global_step: 460, lr: 0.000100, acc: 0.665385, norm_edit_dis: 0.913702, align_loss: 0.233833, lang_loss: 2.171688, vision_loss: 0.236921, loss: 2.641603, avg_reader_cost: 0.00275 s, avg_batch_cost: 1.54552 s, avg_samples: 130.0, ips: 84.11394 samples/s, eta: 1 day, 0:15:40\n",
            "[2022/09/16 18:10:13] ppocr INFO: epoch: [6/250], global_step: 462, lr: 0.000100, acc: 0.657692, norm_edit_dis: 0.912981, align_loss: 0.238109, lang_loss: 2.171548, vision_loss: 0.239465, loss: 2.650329, avg_reader_cost: 0.00006 s, avg_batch_cost: 0.30636 s, avg_samples: 26.0, ips: 84.86753 samples/s, eta: 1 day, 0:11:17\n",
            "[2022/09/16 18:10:15] ppocr INFO: save model in ./output/rec/r45_abinet/latest\n",
            "[2022/09/16 18:10:17] ppocr INFO: save model in ./output/rec/r45_abinet/iter_epoch_6\n"
          ]
        }
      ],
      "source": [
        "!python3 /content/PaddleOCR/tools/train.py \\\n",
        " -c /content/PaddleOCR/configs/rec/rec_r45_abinet.yml \\\n",
        " -o \\\n",
        " Train.dataset.data_dir=/content/drive/MyDrive/datasets \\\n",
        " Train.dataset.name=SimpleDataSet \\\n",
        " Train.dataset.label_file_list=/content/drive/MyDrive/datasets/label_train.txt \\\n",
        " Eval.dataset.label_file_list=/content/drive/MyDrive/datasets/label_val.txt \\\n",
        " Eval.dataset.data_dir=/content/drive/MyDrive/datasets \\\n",
        " Eval.dataset.name=SimpleDataSet \\\n",
        " Global.epoch_num=250 \\\n",
        " Global.eval_batch_step=50 \\\n",
        " Train.dataset.batch_size_per_card=130 \\\n",
        " Train.loader.batch_size_per_card=130 \\\n",
        " Optimizer.lr.learning_rate=0.0005 \\\n",
        " Global.use_space_char=False \\\n",
        " Global.pretrained_model=/content/pretrain_models/rec_r45_abinet_train/best_accuracy \\\n",
        " Global.character_dict_path=/content/drive/MyDrive/datasets/word_dict.txt\n"
      ]
    },
    {
      "cell_type": "code",
      "source": [],
      "metadata": {
        "id": "51xCWoP-ltea"
      },
      "execution_count": null,
      "outputs": []
    },
    {
      "cell_type": "code",
      "execution_count": null,
      "metadata": {
        "colab": {
          "base_uri": "https://localhost:8080/"
        },
        "id": "ADHX69bTpZHS",
        "outputId": "ccdee259-3c1b-4586-da50-ba98b935daa4"
      },
      "outputs": [
        {
          "output_type": "stream",
          "name": "stdout",
          "text": [
            "[2022/09/13 20:22:04] ppocr INFO: Architecture : \n",
            "[2022/09/13 20:22:04] ppocr INFO:     Backbone : \n",
            "[2022/09/13 20:22:04] ppocr INFO:         name : ResNet45\n",
            "[2022/09/13 20:22:04] ppocr INFO:     Head : \n",
            "[2022/09/13 20:22:04] ppocr INFO:         iter_size : 3\n",
            "[2022/09/13 20:22:04] ppocr INFO:         name : ABINetHead\n",
            "[2022/09/13 20:22:04] ppocr INFO:         use_lang : True\n",
            "[2022/09/13 20:22:04] ppocr INFO:     Transform : None\n",
            "[2022/09/13 20:22:04] ppocr INFO:     algorithm : ABINet\n",
            "[2022/09/13 20:22:04] ppocr INFO:     in_channels : 3\n",
            "[2022/09/13 20:22:04] ppocr INFO:     model_type : rec\n",
            "[2022/09/13 20:22:04] ppocr INFO: Eval : \n",
            "[2022/09/13 20:22:04] ppocr INFO:     dataset : \n",
            "[2022/09/13 20:22:04] ppocr INFO:         data_dir : ./train_data/data_lmdb_release/evaluation/\n",
            "[2022/09/13 20:22:04] ppocr INFO:         name : LMDBDataSet\n",
            "[2022/09/13 20:22:04] ppocr INFO:         transforms : \n",
            "[2022/09/13 20:22:04] ppocr INFO:             DecodeImage : \n",
            "[2022/09/13 20:22:04] ppocr INFO:                 channel_first : False\n",
            "[2022/09/13 20:22:04] ppocr INFO:                 img_mode : RGB\n",
            "[2022/09/13 20:22:04] ppocr INFO:             ABINetLabelEncode : \n",
            "[2022/09/13 20:22:04] ppocr INFO:                 ignore_index : 100\n",
            "[2022/09/13 20:22:04] ppocr INFO:             ABINetRecResizeImg : \n",
            "[2022/09/13 20:22:04] ppocr INFO:                 image_shape : [3, 32, 128]\n",
            "[2022/09/13 20:22:04] ppocr INFO:             KeepKeys : \n",
            "[2022/09/13 20:22:04] ppocr INFO:                 keep_keys : ['image', 'label', 'length']\n",
            "[2022/09/13 20:22:04] ppocr INFO:     loader : \n",
            "[2022/09/13 20:22:04] ppocr INFO:         batch_size_per_card : 256\n",
            "[2022/09/13 20:22:04] ppocr INFO:         drop_last : False\n",
            "[2022/09/13 20:22:04] ppocr INFO:         num_workers : 4\n",
            "[2022/09/13 20:22:04] ppocr INFO:         shuffle : False\n",
            "[2022/09/13 20:22:04] ppocr INFO:         use_shared_memory : False\n",
            "[2022/09/13 20:22:04] ppocr INFO: Global : \n",
            "[2022/09/13 20:22:04] ppocr INFO:     cal_metric_during_train : True\n",
            "[2022/09/13 20:22:04] ppocr INFO:     character_dict_path : /content/drive/MyDrive/datasets/word_dict.txt\n",
            "[2022/09/13 20:22:04] ppocr INFO:     character_type : en\n",
            "[2022/09/13 20:22:04] ppocr INFO:     checkpoints : None\n",
            "[2022/09/13 20:22:04] ppocr INFO:     distributed : False\n",
            "[2022/09/13 20:22:04] ppocr INFO:     epoch_num : 10\n",
            "[2022/09/13 20:22:04] ppocr INFO:     eval_batch_step : [0, 2000]\n",
            "[2022/09/13 20:22:04] ppocr INFO:     infer_img : /content/drive/MyDrive/datasets/val/image_1.jpg\n",
            "[2022/09/13 20:22:04] ppocr INFO:     infer_mode : False\n",
            "[2022/09/13 20:22:04] ppocr INFO:     log_smooth_window : 20\n",
            "[2022/09/13 20:22:04] ppocr INFO:     max_text_length : 25\n",
            "[2022/09/13 20:22:04] ppocr INFO:     pretrained_model : /content/output/rec/r45_abinet/best_accuracy\n",
            "[2022/09/13 20:22:04] ppocr INFO:     print_batch_step : 10\n",
            "[2022/09/13 20:22:04] ppocr INFO:     save_epoch_step : 1\n",
            "[2022/09/13 20:22:04] ppocr INFO:     save_inference_dir : None\n",
            "[2022/09/13 20:22:04] ppocr INFO:     save_model_dir : ./output/rec/r45_abinet/\n",
            "[2022/09/13 20:22:04] ppocr INFO:     save_res_path : ./output/rec/predicts_abinet.txt\n",
            "[2022/09/13 20:22:04] ppocr INFO:     use_gpu : True\n",
            "[2022/09/13 20:22:04] ppocr INFO:     use_space_char : False\n",
            "[2022/09/13 20:22:04] ppocr INFO:     use_visualdl : False\n",
            "[2022/09/13 20:22:04] ppocr INFO: Loss : \n",
            "[2022/09/13 20:22:04] ppocr INFO:     ignore_index : 100\n",
            "[2022/09/13 20:22:04] ppocr INFO:     name : CELoss\n",
            "[2022/09/13 20:22:04] ppocr INFO: Metric : \n",
            "[2022/09/13 20:22:04] ppocr INFO:     main_indicator : acc\n",
            "[2022/09/13 20:22:04] ppocr INFO:     name : RecMetric\n",
            "[2022/09/13 20:22:04] ppocr INFO: Optimizer : \n",
            "[2022/09/13 20:22:04] ppocr INFO:     beta1 : 0.9\n",
            "[2022/09/13 20:22:04] ppocr INFO:     beta2 : 0.99\n",
            "[2022/09/13 20:22:04] ppocr INFO:     clip_norm : 20.0\n",
            "[2022/09/13 20:22:04] ppocr INFO:     lr : \n",
            "[2022/09/13 20:22:04] ppocr INFO:         decay_epochs : [6]\n",
            "[2022/09/13 20:22:04] ppocr INFO:         name : Piecewise\n",
            "[2022/09/13 20:22:04] ppocr INFO:         values : [0.0001, 1e-05]\n",
            "[2022/09/13 20:22:04] ppocr INFO:     name : Adam\n",
            "[2022/09/13 20:22:04] ppocr INFO:     regularizer : \n",
            "[2022/09/13 20:22:04] ppocr INFO:         factor : 0.0\n",
            "[2022/09/13 20:22:04] ppocr INFO:         name : L2\n",
            "[2022/09/13 20:22:04] ppocr INFO: PostProcess : \n",
            "[2022/09/13 20:22:04] ppocr INFO:     name : ABINetLabelDecode\n",
            "[2022/09/13 20:22:04] ppocr INFO: Train : \n",
            "[2022/09/13 20:22:04] ppocr INFO:     dataset : \n",
            "[2022/09/13 20:22:04] ppocr INFO:         data_dir : ./train_data/data_lmdb_release/training/\n",
            "[2022/09/13 20:22:04] ppocr INFO:         name : LMDBDataSet\n",
            "[2022/09/13 20:22:04] ppocr INFO:         transforms : \n",
            "[2022/09/13 20:22:04] ppocr INFO:             DecodeImage : \n",
            "[2022/09/13 20:22:04] ppocr INFO:                 channel_first : False\n",
            "[2022/09/13 20:22:04] ppocr INFO:                 img_mode : RGB\n",
            "[2022/09/13 20:22:04] ppocr INFO:             ABINetRecAug : None\n",
            "[2022/09/13 20:22:04] ppocr INFO:             ABINetLabelEncode : \n",
            "[2022/09/13 20:22:04] ppocr INFO:                 ignore_index : 100\n",
            "[2022/09/13 20:22:04] ppocr INFO:             ABINetRecResizeImg : \n",
            "[2022/09/13 20:22:04] ppocr INFO:                 image_shape : [3, 32, 128]\n",
            "[2022/09/13 20:22:04] ppocr INFO:             KeepKeys : \n",
            "[2022/09/13 20:22:04] ppocr INFO:                 keep_keys : ['image', 'label', 'length']\n",
            "[2022/09/13 20:22:04] ppocr INFO:     loader : \n",
            "[2022/09/13 20:22:04] ppocr INFO:         batch_size_per_card : 96\n",
            "[2022/09/13 20:22:04] ppocr INFO:         drop_last : True\n",
            "[2022/09/13 20:22:04] ppocr INFO:         num_workers : 4\n",
            "[2022/09/13 20:22:04] ppocr INFO:         shuffle : True\n",
            "[2022/09/13 20:22:04] ppocr INFO: profiler_options : None\n",
            "[2022/09/13 20:22:04] ppocr INFO: train with paddle 2.3.2 and device Place(gpu:0)\n",
            "W0913 20:22:04.747294  1169 gpu_resources.cc:61] Please NOTE: device: 0, GPU Compute Capability: 7.5, Driver API Version: 11.2, Runtime API Version: 10.2\n",
            "W0913 20:22:04.751133  1169 gpu_resources.cc:91] device: 0, cuDNN Version: 7.6.\n",
            "[2022/09/13 20:22:06] ppocr INFO: load pretrain successful from /content/output/rec/r45_abinet/best_accuracy\n",
            "[2022/09/13 20:22:06] ppocr INFO: infer_img: /content/drive/MyDrive/datasets/val/image_1.jpg\n",
            "[2022/09/13 20:22:07] ppocr INFO: \t result: 2671986083000202\t0.964785099029541\n",
            "[2022/09/13 20:22:07] ppocr INFO: success!\n"
          ]
        }
      ],
      "source": [
        "!python3 /content/PaddleOCR/tools/infer_rec.py -c /content/PaddleOCR/configs/rec/rec_r45_abinet.yml \\\n",
        "-o Global.infer_img=\"/content/drive/MyDrive/datasets/val/image_1.jpg\" \\\n",
        "Global.pretrained_model=\"/content/output/rec/r45_abinet/best_accuracy\" \\\n",
        "Global.character_dict_path=/content/drive/MyDrive/datasets/word_dict.txt\n"
      ]
    },
    {
      "cell_type": "code",
      "source": [
        "!python3 /content/PaddleOCR/tools/export_model.py -c '/content/PaddleOCR/configs/rec/rec_r34_vd_none_bilstm_ctc.yml' -o Global.pretrained_model=/content/output/rec/r34_vd_none_bilstm_ctc/best_accuracy  Global.save_inference_dir=./inference/rec/ Global.character_dict_path=/content/drive/MyDrive/datasets/word_dict.txt"
      ],
      "metadata": {
        "colab": {
          "base_uri": "https://localhost:8080/"
        },
        "id": "u7_n8W-1AWDH",
        "outputId": "7637aad1-cfa5-4de9-aff2-cfd623357d4f"
      },
      "execution_count": null,
      "outputs": [
        {
          "output_type": "stream",
          "name": "stdout",
          "text": [
            "W0913 12:40:25.236788  2532 gpu_resources.cc:61] Please NOTE: device: 0, GPU Compute Capability: 7.5, Driver API Version: 11.2, Runtime API Version: 10.2\n",
            "W0913 12:40:25.244422  2532 gpu_resources.cc:91] device: 0, cuDNN Version: 7.6.\n",
            "[2022/09/13 12:40:26] ppocr INFO: load pretrain successful from /content/output/rec/r34_vd_none_bilstm_ctc/best_accuracy\n",
            "[2022/09/13 12:40:28] ppocr INFO: inference model is saved to ./inference/rec/inference\n"
          ]
        }
      ]
    },
    {
      "cell_type": "code",
      "source": [
        "!python3 /content/PaddleOCR/tools/infer/predict_rec.py --image_dir=\"/content/drive/MyDrive/datasets/val/image_32.jpg\" --rec_model_dir='/content/inference/rec/'   --rec_char_dict_path=\"/content/drive/MyDrive/datasets/word_dict.txt\" --rec_image_shape='3,32,400'"
      ],
      "metadata": {
        "colab": {
          "base_uri": "https://localhost:8080/"
        },
        "id": "uNQUP1h3m_ik",
        "outputId": "3beb000c-f703-4243-fa53-d5760a64e9ab"
      },
      "execution_count": null,
      "outputs": [
        {
          "output_type": "stream",
          "name": "stdout",
          "text": [
            "args\n",
            "<class 'argparse.Namespace'>\n",
            "Traceback (most recent call last):\n",
            "  File \"/content/PaddleOCR/tools/infer/predict_rec.py\", line 594, in <module>\n",
            "    main(utility.parse_args())\n",
            "  File \"/content/PaddleOCR/tools/infer/predict_rec.py\", line 556, in main\n",
            "    text_recognizer = TextRecognizer(args)\n",
            "  File \"/content/PaddleOCR/tools/infer/predict_rec.py\", line 111, in __init__\n",
            "    utility.create_predictor(args, 'rec', logger)\n",
            "  File \"/content/PaddleOCR/tools/infer/utility.py\", line 194, in create_predictor\n",
            "    model_dir))\n",
            "ValueError: not find model.pdmodel or inference.pdmodel in /content/inference/rec/\n"
          ]
        }
      ]
    },
    {
      "cell_type": "code",
      "source": [
        "from paddleocr import PaddleOCR\n",
        "\n",
        "paddle_model = PaddleOCR(det=False, cls=False,  rec_image_shape='3, 32, 400', rec_model_dir='/content/inference/rec/', rec_char_dict_path='/content/drive/MyDrive/datasets/word_dict.txt')\n",
        "res = paddle_model.ocr('/content/drive/MyDrive/datasets/val/image_32.jpg', det=False, cls=False)"
      ],
      "metadata": {
        "id": "Act8xGzL2eRC",
        "colab": {
          "base_uri": "https://localhost:8080/"
        },
        "outputId": "f4ccc237-4ddf-47b1-f056-0dddfb983b88"
      },
      "execution_count": null,
      "outputs": [
        {
          "output_type": "stream",
          "name": "stdout",
          "text": [
            "[2022/09/13 13:03:34] ppocr DEBUG: Namespace(alpha=1.0, benchmark=False, beta=1.0, cls=False, cls_batch_num=6, cls_image_shape='3, 48, 192', cls_model_dir='/root/.paddleocr/whl/cls/ch_ppocr_mobile_v2.0_cls_infer', cls_thresh=0.9, cpu_threads=10, crop_res_save_dir='./output', det=False, det_algorithm='DB', det_db_box_thresh=0.6, det_db_score_mode='fast', det_db_thresh=0.3, det_db_unclip_ratio=1.5, det_east_cover_thresh=0.1, det_east_nms_thresh=0.2, det_east_score_thresh=0.8, det_fce_box_type='poly', det_limit_side_len=960, det_limit_type='max', det_model_dir='/root/.paddleocr/whl/det/ch/ch_PP-OCRv3_det_infer', det_pse_box_thresh=0.85, det_pse_box_type='quad', det_pse_min_area=16, det_pse_scale=1, det_pse_thresh=0, det_sast_nms_thresh=0.2, det_sast_polygon=False, det_sast_score_thresh=0.5, draw_img_save_dir='./inference_results', drop_score=0.5, e2e_algorithm='PGNet', e2e_char_dict_path='./ppocr/utils/ic15_dict.txt', e2e_limit_side_len=768, e2e_limit_type='max', e2e_model_dir=None, e2e_pgnet_mode='fast', e2e_pgnet_score_thresh=0.5, e2e_pgnet_valid_set='totaltext', enable_mkldnn=False, fourier_degree=5, gpu_mem=500, help='==SUPPRESS==', image_dir=None, image_orientation=False, ir_optim=True, kie_algorithm='LayoutXLM', label_list=['0', '180'], lang='ch', layout=True, layout_dict_path=None, layout_model_dir=None, layout_nms_threshold=0.5, layout_score_threshold=0.5, max_batch_size=10, max_text_length=25, merge_no_span_structure=True, min_subgraph_size=15, mode='structure', ocr=True, ocr_order_method=None, ocr_version='PP-OCRv3', output='./output', precision='fp32', process_id=0, rec=True, rec_algorithm='SVTR_LCNet', rec_batch_num=6, rec_char_dict_path='/content/drive/MyDrive/datasets/word_dict.txt', rec_image_shape='3, 48, 320', rec_model_dir='/content/inference/rec/', recovery=False, save_crop_res=False, save_log_path='./log_output/', save_pdf=False, scales=[8, 16, 32], ser_dict_path='../train_data/XFUND/class_list_xfun.txt', ser_model_dir=None, shape_info_filename=None, show_log=True, sr_batch_num=1, sr_image_shape='3, 32, 128', sr_model_dir=None, structure_version='PP-Structurev2', table=True, table_algorithm='TableAttn', table_char_dict_path=None, table_max_len=488, table_model_dir=None, total_process_num=1, type='ocr', use_angle_cls=False, use_dilation=False, use_gpu=True, use_mp=False, use_onnx=False, use_pdserving=False, use_space_char=True, use_tensorrt=False, use_xpu=False, vis_font_path='./doc/fonts/simfang.ttf', warmup=False)\n"
          ]
        }
      ]
    },
    {
      "cell_type": "code",
      "source": [
        "print(res)"
      ],
      "metadata": {
        "colab": {
          "base_uri": "https://localhost:8080/"
        },
        "id": "wcKWPn5T54NH",
        "outputId": "a5954e43-a21f-46a5-e386-688ddf9bb071"
      },
      "execution_count": null,
      "outputs": [
        {
          "output_type": "stream",
          "name": "stdout",
          "text": [
            "[('19000000012', 0.8155146241188049)]\n"
          ]
        }
      ]
    },
    {
      "cell_type": "code",
      "source": [],
      "metadata": {
        "id": "UXq5tw3z6LAx"
      },
      "execution_count": null,
      "outputs": []
    }
  ],
  "metadata": {
    "colab": {
      "collapsed_sections": [],
      "provenance": []
    },
    "gpuClass": "standard",
    "kernelspec": {
      "display_name": "Python 3",
      "name": "python3"
    },
    "language_info": {
      "name": "python"
    },
    "accelerator": "GPU"
  },
  "nbformat": 4,
  "nbformat_minor": 0
}